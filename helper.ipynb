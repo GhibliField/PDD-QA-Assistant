{
 "cells": [
  {
   "cell_type": "markdown",
   "metadata": {},
   "source": [
    "# Re-fetch History Questions"
   ]
  },
  {
   "cell_type": "code",
   "execution_count": null,
   "metadata": {},
   "outputs": [],
   "source": [
    "import os\n",
    "from tqdm.notebook import tqdm\n",
    "from config import Config\n",
    "from main import QA\n",
    "import traceback\n",
    "\n",
    "config = Config()\n",
    "qa = QA(config, history=True)\n",
    "files = os.listdir('img/')\n",
    "imgs = [file  for file in files if os.path.splitext(file)[-1] == '.jpg']\n",
    "# imgs=['screenshot_1577544307.jpg','screenshot_1577544265.jpg']\n",
    "\n",
    "qas=[]\n",
    "    \n",
    "for img in tqdm(imgs):\n",
    "    try:\n",
    "        qa_info = qa.get_info('img/'+img)\n",
    "        qas.append(qa_info)\n",
    "        print('{0},{1},{2},,{3}'.format(qa_info['question'],qa_info['answer_left'],qa_info['answer_right'],qa_info['type']).strip())\n",
    "    except Exception as e:\n",
    "        print(img)\n",
    "        print(traceback.format_exc())\n",
    "    else:\n",
    "        os.system('rm -rf {}'.format('img/'+img))\n",
    "    "
   ]
  },
  {
   "cell_type": "markdown",
   "metadata": {},
   "source": [
    "# OCR Key Position Survey"
   ]
  },
  {
   "cell_type": "code",
   "execution_count": null,
   "metadata": {},
   "outputs": [],
   "source": [
    "import os\n",
    "from PIL import Image\n",
    "import matplotlib.pyplot as plt \n",
    "\n",
    "os.system(\"adb shell /system/bin/screencap -p /sdcard/screenshot.png\")\n",
    "os.system(\n",
    "    \"adb pull /sdcard/screenshot.png ./img/screenshot.png\")\n",
    "\n",
    "# cover the unecessary part\n",
    "\n",
    "origin = Image.open('./img/screenshot.png')\n",
    "plt.imshow(origin)\n",
    "\n",
    "plt.show()"
   ]
  }
 ],
 "metadata": {
  "kernelspec": {
   "display_name": "Python 3",
   "language": "python",
   "name": "python3"
  },
  "language_info": {
   "codemirror_mode": {
    "name": "ipython",
    "version": 3
   },
   "file_extension": ".py",
   "mimetype": "text/x-python",
   "name": "python",
   "nbconvert_exporter": "python",
   "pygments_lexer": "ipython3",
   "version": "3.6.5"
  },
  "toc": {
   "base_numbering": 1,
   "nav_menu": {},
   "number_sections": true,
   "sideBar": true,
   "skip_h1_title": false,
   "title_cell": "Table of Contents",
   "title_sidebar": "Contents",
   "toc_cell": false,
   "toc_position": {},
   "toc_section_display": true,
   "toc_window_display": false
  }
 },
 "nbformat": 4,
 "nbformat_minor": 2
}
