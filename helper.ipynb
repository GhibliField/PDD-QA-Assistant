{
 "cells": [
  {
   "cell_type": "markdown",
   "metadata": {},
   "source": [
    "# Re-fetch history questions"
   ]
  },
  {
   "cell_type": "code",
   "execution_count": 1,
   "metadata": {},
   "outputs": [
    {
     "data": {
      "application/vnd.jupyter.widget-view+json": {
       "model_id": "2f5bd74da9504582bc7588d53c0e5f26",
       "version_major": 2,
       "version_minor": 0
      },
      "text/html": [
       "<p>Failed to display Jupyter Widget of type <code>HBox</code>.</p>\n",
       "<p>\n",
       "  If you're reading this message in the Jupyter Notebook or JupyterLab Notebook, it may mean\n",
       "  that the widgets JavaScript is still loading. If this message persists, it\n",
       "  likely means that the widgets JavaScript library is either not installed or\n",
       "  not enabled. See the <a href=\"https://ipywidgets.readthedocs.io/en/stable/user_install.html\">Jupyter\n",
       "  Widgets Documentation</a> for setup instructions.\n",
       "</p>\n",
       "<p>\n",
       "  If you're reading this message in another frontend (for example, a static\n",
       "  rendering on GitHub or <a href=\"https://nbviewer.jupyter.org/\">NBViewer</a>),\n",
       "  it may mean that your frontend doesn't currently support widgets.\n",
       "</p>\n"
      ],
      "text/plain": [
       "HBox(children=(IntProgress(value=0, max=37), HTML(value='')))"
      ]
     },
     "metadata": {},
     "output_type": "display_data"
    },
    {
     "name": "stdout",
     "output_type": "stream",
     "text": [
      "我国唯一以湖泊而得名的省是,青海省,黑龙江省,,factoid\n",
      "动画  Lovelive 中 东条希的头发是什么颜色,紫色,深蓝色,,factoid\n",
      "下列哪道菜品是新疆的特色菜品,豌豆黄,大盘鸡,,factoid\n",
      "动画  Lovelive 中 东条希的头发是什么颜色,紫色,深蓝色,,factoid\n",
      "地球上最大的陨石 重达60吨的 霍吧陨石 位于哪个大洲,非洲,欧洲,,factoid\n",
      "汉武帝时期统治阶级崇尚的学术思想是,儒家,佛教,,factoid\n",
      "古代所说的 燕赵之地 是现在的哪个省份,河北省,安徽省,,factoid\n",
      "夏练三伏 冬练,三九,四九,,factoid\n",
      "湄公河在我在我国境内被称为,雅砻江,涧沧江,,factoid\n",
      "包青天 包拯的 谥号 是,孝肃,忠烈,,factoid\n",
      "被我国车迷称为 汽车老三样 的是捷达 富康和哪种车,桑塔纳,奇瑞,,factoid\n",
      "screenshot_1576937027.jpg\n",
      "Traceback (most recent call last):\n",
      "  File \"<ipython-input-1-5e27e9998295>\", line 17, in <module>\n",
      "    qa_info = qa.get_info('img/'+img)\n",
      "  File \"/home/d0main/wyshen/MyProject/PDD-QA-Assistant/main.py\", line 58, in get_info\n",
      "    answer_left = self.result['words_result'][-2]['words']\n",
      "KeyError: 'words_result'\n",
      "\n",
      "迄今为止我国最古老的文字是,隶书,甲骨文,,factoid\n",
      "009年 由博尔特创造的男子百米世界记录是多少,9秒58,9秒55,,factoid\n",
      "莘莘学子 的 莘 字读音,是?,shen,,factoid\n",
      "屈光介质不包括,玻璃体,小梁网,,factoid\n",
      "海内存知己 天涯若比邻 出自哪朝 哪位诗人笔下,唐朝李煜,唐朝王勃,,factoid\n",
      "花甲之年 指的是多少岁,五十岁,六十岁,,factoid\n",
      "比萨的发明人是,丹尼尔,马可波罗,,factoid\n",
      "三国演义 中曹操听从了谁的遗言计定辽东,郭奉孝,张文远,,factoid\n",
      "英国最大的广播公司是,ABC,BBC,,factoid\n",
      "屈光介质不包括,玻璃体,小梁网,,factoid\n",
      "以烈士刘志丹命名的志丹县在哪个省,河南省,陕西省,,factoid\n",
      "屈光介质不包括,玻璃体,小梁网,,factoid\n",
      "Jay Chou是台湾歌坛小天王周杰伦的英文名,错误,正确,,yesno\n",
      "动画  Lovelive 中 东条希的头发是什么颜色,紫色,深蓝色,,factoid\n",
      "韩国的首都是哪座城市,釜山,首尔,,factoid\n",
      "动画  Loveliⅳve 中 东条希的头发是什么颜色,紫色,深蓝色,,factoid\n",
      "下列选项中最小的距离单位是,纳米,英寸,,factoid\n",
      "赤壁之战发生在什么季节,夏,冬,,factoid\n",
      "动画  Lovelive 中 东条希的头发是什么颜色,紫色,深蓝色,,factoid\n",
      "地球上的风由于地球公转的原因不能笔直流动,错误,正确,,yesno\n",
      ",(苹果手机的操作系统是?,Android,,factoid\n",
      ",(苹果手机的操作系统是?,Android,,factoid\n",
      "一个棱长为3米的正方体 其体积为多少立方米,27立方米,24立方米,,factoid\n",
      "在古代被称为 食铁兽 的是哪种国宝级动物,鲸鱼,大熊猫,,factoid\n",
      "狮子是属于什么科,猴科,猫科,,factoid\n",
      "\n"
     ]
    }
   ],
   "source": [
    "import os\n",
    "from tqdm import tqdm_notebook as tqdm\n",
    "from config import Config\n",
    "from main import QA\n",
    "import traceback\n",
    "\n",
    "config = Config()\n",
    "qa = QA(config, history=True)\n",
    "files = os.listdir('img/')\n",
    "# imgs = [file  for file in files if os.path.splitext(file)[-1] == '.jpg']\n",
    "imgs=['screenshot_1576937027.jpg']\n",
    "\n",
    "qas=[]\n",
    "    \n",
    "for img in tqdm(imgs):\n",
    "    try:\n",
    "        qa_info = qa.get_info('img/'+img)\n",
    "        qas.append(qa_info)\n",
    "        print('{0},{1},{2},,{3}'.format(qa_info['question'],qa_info['answer_left'],qa_info['answer_right'],qa_info['type']).strip())\n",
    "    except Exception as e:\n",
    "        print(img)\n",
    "        print(traceback.format_exc())\n",
    "    else:\n",
    "        os.system('rm -rf {}'.format('img/'+img))\n",
    "    "
   ]
  },
  {
   "cell_type": "markdown",
   "metadata": {},
   "source": [
    "# OCR Key Position Survey"
   ]
  },
  {
   "cell_type": "code",
   "execution_count": null,
   "metadata": {},
   "outputs": [],
   "source": [
    "import os\n",
    "from PIL import Image\n",
    "import matplotlib.pyplot as plt \n",
    "\n",
    "os.system(\"adb shell /system/bin/screencap -p /sdcard/screenshot.png\")\n",
    "os.system(\n",
    "    \"adb pull /sdcard/screenshot.png ./img/screenshot.png\")\n",
    "\n",
    "# cover the unecessary part\n",
    "\n",
    "origin = Image.open('./img/screenshot.png')\n",
    "plt.imshow(origin)\n",
    "\n",
    "plt.show()"
   ]
  }
 ],
 "metadata": {
  "kernelspec": {
   "display_name": "Python 3",
   "language": "python",
   "name": "python3"
  },
  "language_info": {
   "codemirror_mode": {
    "name": "ipython",
    "version": 3
   },
   "file_extension": ".py",
   "mimetype": "text/x-python",
   "name": "python",
   "nbconvert_exporter": "python",
   "pygments_lexer": "ipython3",
   "version": "3.6.4"
  },
  "toc": {
   "base_numbering": 1,
   "nav_menu": {},
   "number_sections": true,
   "sideBar": true,
   "skip_h1_title": false,
   "title_cell": "Table of Contents",
   "title_sidebar": "Contents",
   "toc_cell": false,
   "toc_position": {},
   "toc_section_display": true,
   "toc_window_display": false
  }
 },
 "nbformat": 4,
 "nbformat_minor": 2
}
